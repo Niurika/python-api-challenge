{
 "cells": [
  {
   "cell_type": "markdown",
   "metadata": {},
   "source": [
    "# WeatherPy\n",
    "----\n",
    "\n",
    "#### Note\n",
    "* Instructions have been included for each segment. You do not have to follow them exactly, but they are included to help you think through the steps."
   ]
  },
  {
   "cell_type": "code",
   "execution_count": 1,
   "metadata": {
    "scrolled": true
   },
   "outputs": [],
   "source": [
    "# Dependencies and Setup\n",
    "import matplotlib.pyplot as plt\n",
    "import pandas as pd\n",
    "import numpy as np\n",
    "import requests\n",
    "import time\n",
    "from scipy.stats import linregress\n",
    "\n",
    "# Import API key\n",
    "from api_keys import weather_api_key\n",
    "\n",
    "# Incorporated citipy to determine city based on latitude and longitude\n",
    "from citipy import citipy\n",
    "\n",
    "# Output File (CSV)\n",
    "output_data_file = \"output_data/cities.csv\"\n",
    "\n",
    "# Range of latitudes and longitudes\n",
    "lat_range = (-90, 90)\n",
    "lng_range = (-180, 180)"
   ]
  },
  {
   "cell_type": "markdown",
   "metadata": {},
   "source": [
    "## Generate Cities List"
   ]
  },
  {
   "cell_type": "code",
   "execution_count": 2,
   "metadata": {},
   "outputs": [
    {
     "data": {
      "text/plain": [
       "603"
      ]
     },
     "execution_count": 2,
     "metadata": {},
     "output_type": "execute_result"
    }
   ],
   "source": [
    "# List for holding lat_lngs and cities\n",
    "lat_lngs = []\n",
    "cities = []\n",
    "\n",
    "# Create a set of random lat and lng combinations\n",
    "lats = np.random.uniform(lat_range[0], lat_range[1], size=1500)\n",
    "lngs = np.random.uniform(lng_range[0], lng_range[1], size=1500)\n",
    "lat_lngs = zip(lats, lngs)\n",
    "\n",
    "# Identify nearest city for each lat, lng combination\n",
    "for lat_lng in lat_lngs:\n",
    "    city = citipy.nearest_city(lat_lng[0], lat_lng[1]).city_name\n",
    "    \n",
    "    # If the city is unique, then add it to a our cities list\n",
    "    if city not in cities:\n",
    "        cities.append(city)\n",
    "\n",
    "# Print the city count to confirm sufficient count\n",
    "len(cities)\n"
   ]
  },
  {
   "cell_type": "markdown",
   "metadata": {
    "tags": []
   },
   "source": [
    "### Perform API Calls\n",
    "* Perform a weather check on each city using a series of successive API calls.\n",
    "* Include a print log of each city as it'sbeing processed (with the city number and city name).\n"
   ]
  },
  {
   "cell_type": "code",
   "execution_count": 3,
   "metadata": {},
   "outputs": [
    {
     "name": "stdout",
     "output_type": "stream",
     "text": [
      "Processing Record 1 of Set 1 | saint george\n",
      "Processing Record 2 of Set 1 | castro\n",
      "Processing Record 3 of Set 1 | yellowknife\n",
      "Processing Record 4 of Set 1 | port alfred\n",
      "Processing Record 5 of Set 1 | malwan\n",
      "key not found\n",
      "Processing Record 5 of Set 1 | georgetown\n",
      "Processing Record 6 of Set 1 | coihaique\n",
      "Processing Record 7 of Set 1 | nemuro\n",
      "Processing Record 8 of Set 1 | bredasdorp\n",
      "Processing Record 9 of Set 1 | bahia blanca\n",
      "Processing Record 10 of Set 1 | arraial do cabo\n",
      "Processing Record 11 of Set 1 | fairlie\n",
      "Processing Record 12 of Set 1 | avarua\n",
      "Processing Record 13 of Set 1 | cape town\n",
      "Processing Record 14 of Set 1 | cascavel\n",
      "Processing Record 15 of Set 1 | tanggu\n",
      "Processing Record 16 of Set 1 | thompson\n",
      "Processing Record 17 of Set 1 | bethel\n",
      "Processing Record 18 of Set 1 | catamarca\n",
      "Processing Record 19 of Set 1 | guerrero negro\n",
      "Processing Record 20 of Set 1 | ancud\n",
      "Processing Record 21 of Set 1 | arman\n",
      "Processing Record 22 of Set 1 | airai\n",
      "Processing Record 23 of Set 1 | illoqqortoormiut\n",
      "key not found\n",
      "Processing Record 23 of Set 1 | cayenne\n",
      "Processing Record 24 of Set 1 | kapaa\n",
      "Processing Record 25 of Set 1 | taolanaro\n",
      "key not found\n",
      "Processing Record 25 of Set 1 | bandarbeyla\n",
      "Processing Record 26 of Set 1 | souillac\n",
      "Processing Record 27 of Set 1 | bambous virieux\n",
      "Processing Record 28 of Set 1 | punta arenas\n",
      "Processing Record 29 of Set 1 | rikitea\n",
      "Processing Record 30 of Set 1 | murray bridge\n",
      "Processing Record 31 of Set 1 | tuktoyaktuk\n",
      "Processing Record 32 of Set 1 | tuggurt\n",
      "key not found\n",
      "Processing Record 32 of Set 1 | punta gorda\n",
      "Processing Record 33 of Set 1 | bam\n",
      "Processing Record 34 of Set 1 | atuona\n",
      "Processing Record 35 of Set 1 | chapais\n",
      "Processing Record 36 of Set 1 | alyangula\n",
      "Processing Record 37 of Set 1 | pangody\n",
      "Processing Record 38 of Set 1 | vostok\n",
      "Processing Record 39 of Set 1 | vila velha\n",
      "Processing Record 40 of Set 1 | ushuaia\n",
      "Processing Record 41 of Set 1 | belushya guba\n",
      "key not found\n",
      "Processing Record 41 of Set 1 | olafsvik\n",
      "Processing Record 42 of Set 1 | hermanus\n",
      "Processing Record 43 of Set 1 | saskylakh\n",
      "Processing Record 44 of Set 1 | darbhanga\n",
      "Processing Record 45 of Set 1 | port augusta\n",
      "Processing Record 46 of Set 1 | labytnangi\n",
      "Processing Record 47 of Set 1 | busselton\n",
      "Processing Record 48 of Set 1 | barrow\n",
      "Processing Record 49 of Set 1 | uk\n",
      "key not found\n",
      "Processing Record 49 of Set 1 | barentsburg\n",
      "key not found\n",
      "Processing Record 49 of Set 1 | uruzgan\n",
      "Processing Record 50 of Set 1 | yialos\n",
      "key not found\n",
      "Processing Record 50 of Set 1 | bay roberts\n",
      "Processing Record 51 of Set 1 | mataura\n",
      "Processing Record 52 of Set 1 | luderitz\n",
      "Processing Record 53 of Set 1 | oranjemund\n",
      "Processing Record 54 of Set 1 | muros\n",
      "Processing Record 55 of Set 1 | hilo\n",
      "Processing Record 56 of Set 1 | padang\n",
      "Processing Record 57 of Set 1 | ixtapa\n",
      "Processing Record 58 of Set 1 | lebu\n",
      "Processing Record 59 of Set 1 | kaduna\n",
      "Processing Record 60 of Set 1 | kalangala\n",
      "Processing Record 61 of Set 1 | qaanaaq\n",
      "Processing Record 62 of Set 1 | northam\n",
      "Processing Record 63 of Set 1 | albany\n",
      "Processing Record 64 of Set 1 | severo-kurilsk\n",
      "Processing Record 65 of Set 1 | new norfolk\n",
      "Processing Record 66 of Set 1 | satitoa\n",
      "key not found\n",
      "Processing Record 66 of Set 1 | schaffhausen\n",
      "Processing Record 67 of Set 1 | carnarvon\n",
      "Processing Record 68 of Set 1 | el alto\n",
      "Processing Record 69 of Set 1 | willowmore\n",
      "Processing Record 70 of Set 1 | domoni\n",
      "Processing Record 71 of Set 1 | morki\n",
      "Processing Record 72 of Set 1 | comodoro rivadavia\n",
      "Processing Record 73 of Set 1 | lolua\n",
      "key not found\n",
      "Processing Record 73 of Set 1 | sentyabrskiy\n",
      "key not found\n",
      "Processing Record 73 of Set 1 | narsaq\n",
      "Processing Record 74 of Set 1 | timra\n",
      "Processing Record 75 of Set 1 | vaitupu\n",
      "key not found\n",
      "Processing Record 75 of Set 1 | nome\n",
      "Processing Record 76 of Set 1 | upernavik\n",
      "Processing Record 77 of Set 1 | karratha\n",
      "Processing Record 78 of Set 1 | hobart\n",
      "Processing Record 79 of Set 1 | porto velho\n",
      "Processing Record 80 of Set 1 | klaksvik\n",
      "Processing Record 81 of Set 1 | dinsor\n",
      "key not found\n",
      "Processing Record 81 of Set 1 | leh\n",
      "Processing Record 82 of Set 1 | samusu\n",
      "key not found\n",
      "Processing Record 82 of Set 1 | ciras\n",
      "key not found\n",
      "Processing Record 82 of Set 1 | iqaluit\n",
      "Processing Record 83 of Set 1 | cabo san lucas\n",
      "Processing Record 84 of Set 1 | vaini\n",
      "Processing Record 85 of Set 1 | palabuhanratu\n",
      "key not found\n",
      "Processing Record 85 of Set 1 | tumannyy\n",
      "key not found\n",
      "Processing Record 85 of Set 1 | severnyy\n",
      "Processing Record 86 of Set 1 | saint-philippe\n",
      "Processing Record 87 of Set 1 | teya\n",
      "Processing Record 88 of Set 1 | ust-nera\n",
      "Processing Record 89 of Set 1 | tottori\n",
      "Processing Record 90 of Set 1 | amderma\n",
      "key not found\n",
      "Processing Record 90 of Set 1 | mukhen\n",
      "Processing Record 91 of Set 1 | husavik\n",
      "Processing Record 92 of Set 1 | gat\n",
      "Processing Record 93 of Set 1 | sitka\n",
      "Processing Record 94 of Set 1 | hailey\n",
      "Processing Record 95 of Set 1 | butaritari\n",
      "Processing Record 96 of Set 1 | east london\n",
      "Processing Record 97 of Set 1 | nikolskoye\n",
      "Processing Record 98 of Set 1 | taoudenni\n",
      "Processing Record 99 of Set 1 | terme\n",
      "Processing Record 100 of Set 1 | marcona\n",
      "key not found\n",
      "Processing Record 100 of Set 1 | half moon bay\n",
      "Processing Record 101 of Set 1 | skalistyy\n",
      "key not found\n",
      "Processing Record 101 of Set 1 | lagoa\n",
      "Processing Record 102 of Set 1 | hithadhoo\n",
      "Processing Record 103 of Set 1 | tapejara\n",
      "Processing Record 104 of Set 1 | oranjestad\n",
      "Processing Record 105 of Set 1 | tromso\n",
      "Processing Record 106 of Set 1 | skjervoy\n",
      "Processing Record 107 of Set 1 | khatanga\n",
      "Processing Record 108 of Set 1 | dikson\n",
      "Processing Record 109 of Set 1 | havoysund\n",
      "Processing Record 110 of Set 1 | kodiak\n",
      "Processing Record 111 of Set 1 | fortuna\n",
      "Processing Record 112 of Set 1 | abu kamal\n",
      "Processing Record 113 of Set 1 | antofagasta\n",
      "Processing Record 114 of Set 1 | kloulklubed\n",
      "Processing Record 115 of Set 1 | grand river south east\n",
      "key not found\n",
      "Processing Record 115 of Set 1 | geraldton\n",
      "Processing Record 116 of Set 1 | brae\n",
      "Processing Record 117 of Set 1 | flinders\n",
      "Processing Record 118 of Set 1 | boralday\n",
      "Processing Record 119 of Set 1 | te anau\n",
      "Processing Record 120 of Set 1 | dmitriyevskoye\n",
      "Processing Record 121 of Set 1 | safaga\n",
      "Processing Record 122 of Set 1 | dzhebariki-khaya\n",
      "Processing Record 123 of Set 1 | avera\n",
      "Processing Record 124 of Set 1 | bathsheba\n",
      "Processing Record 125 of Set 1 | clyde river\n",
      "Processing Record 126 of Set 1 | oussouye\n",
      "Processing Record 127 of Set 1 | rosetown\n",
      "Processing Record 128 of Set 1 | plouzane\n",
      "Processing Record 129 of Set 1 | saint-nazaire\n",
      "Processing Record 130 of Set 1 | kahului\n",
      "Processing Record 131 of Set 1 | hofn\n",
      "Processing Record 132 of Set 1 | atar\n",
      "Processing Record 133 of Set 1 | lompoc\n",
      "Processing Record 134 of Set 1 | tayu\n",
      "Processing Record 135 of Set 1 | shelburne\n",
      "Processing Record 136 of Set 1 | gambo\n",
      "Processing Record 137 of Set 1 | praia da vitoria\n",
      "Processing Record 138 of Set 1 | coquimbo\n",
      "Processing Record 139 of Set 1 | srednekolymsk\n",
      "Processing Record 140 of Set 1 | faanui\n",
      "Processing Record 141 of Set 1 | golden\n",
      "Processing Record 142 of Set 1 | leningradskiy\n",
      "Processing Record 143 of Set 1 | portland\n",
      "Processing Record 144 of Set 1 | okhotsk\n",
      "Processing Record 145 of Set 1 | binzhou\n",
      "Processing Record 146 of Set 1 | nadym\n",
      "Processing Record 147 of Set 1 | mao\n",
      "Processing Record 148 of Set 1 | bluff\n",
      "Processing Record 149 of Set 1 | tsihombe\n",
      "key not found\n",
      "Processing Record 149 of Set 1 | tiksi\n",
      "Processing Record 150 of Set 1 | grindavik\n",
      "Processing Record 151 of Set 1 | kyabe\n",
      "Processing Record 152 of Set 1 | cherskiy\n",
      "Processing Record 153 of Set 1 | longyearbyen\n",
      "Processing Record 154 of Set 1 | mankera\n",
      "Processing Record 155 of Set 1 | ust-kuyga\n",
      "Processing Record 156 of Set 1 | itoman\n",
      "Processing Record 157 of Set 1 | norman wells\n",
      "Processing Record 158 of Set 1 | la rioja\n",
      "Processing Record 159 of Set 1 | paso de los toros\n",
      "Processing Record 160 of Set 1 | fort nelson\n",
      "Processing Record 161 of Set 1 | constitucion\n",
      "Processing Record 162 of Set 1 | verkh-usugli\n",
      "Processing Record 163 of Set 1 | esperance\n",
      "Processing Record 164 of Set 1 | evensk\n",
      "Processing Record 165 of Set 1 | aden\n",
      "Processing Record 166 of Set 1 | port lincoln\n",
      "Processing Record 167 of Set 1 | kyshtym\n",
      "Processing Record 168 of Set 1 | katsuura\n",
      "Processing Record 169 of Set 1 | yulara\n",
      "Processing Record 170 of Set 1 | kuusamo\n",
      "Processing Record 171 of Set 1 | dir\n",
      "Processing Record 172 of Set 1 | okha\n",
      "Processing Record 173 of Set 1 | mandiana\n",
      "Processing Record 174 of Set 1 | pevek\n",
      "Processing Record 175 of Set 1 | arlit\n",
      "Processing Record 176 of Set 1 | amapa\n",
      "Processing Record 177 of Set 1 | dianopolis\n",
      "key not found\n",
      "Processing Record 177 of Set 1 | maldonado\n",
      "Processing Record 178 of Set 1 | blonduos\n",
      "key not found\n",
      "Processing Record 178 of Set 1 | ponta delgada\n",
      "Processing Record 179 of Set 1 | chokurdakh\n",
      "Processing Record 180 of Set 1 | roald\n",
      "Processing Record 181 of Set 1 | sur\n",
      "Processing Record 182 of Set 1 | hay river\n",
      "Processing Record 183 of Set 1 | wegrow\n",
      "Processing Record 184 of Set 1 | attawapiskat\n",
      "key not found\n",
      "Processing Record 184 of Set 1 | akyab\n",
      "Processing Record 185 of Set 1 | thinadhoo\n",
      "Processing Record 186 of Set 1 | saldanha\n",
      "Processing Record 187 of Set 1 | marsh harbour\n",
      "Processing Record 188 of Set 1 | jalu\n",
      "Processing Record 189 of Set 1 | ola\n",
      "Processing Record 190 of Set 1 | torbay\n",
      "Processing Record 191 of Set 1 | noshiro\n",
      "Processing Record 192 of Set 1 | sainte-suzanne\n",
      "Processing Record 193 of Set 1 | nanortalik\n",
      "Processing Record 194 of Set 1 | tasiilaq\n",
      "Processing Record 195 of Set 1 | abu dhabi\n",
      "Processing Record 196 of Set 1 | andevoranto\n",
      "key not found\n",
      "Processing Record 196 of Set 1 | chumikan\n",
      "Processing Record 197 of Set 1 | kenai\n",
      "Processing Record 198 of Set 1 | sinnamary\n",
      "Processing Record 199 of Set 1 | buala\n",
      "Processing Record 200 of Set 1 | anadyr\n",
      "Processing Record 201 of Set 1 | lasa\n",
      "Processing Record 202 of Set 1 | katete\n",
      "Processing Record 203 of Set 1 | nizhneyansk\n",
      "key not found\n",
      "Processing Record 203 of Set 1 | sola\n",
      "Processing Record 204 of Set 1 | ucluelet\n",
      "Processing Record 205 of Set 1 | coari\n",
      "Processing Record 206 of Set 1 | los llanos de aridane\n",
      "Processing Record 207 of Set 1 | bavleny\n",
      "Processing Record 208 of Set 1 | fort smith\n",
      "Processing Record 209 of Set 1 | tagusao\n",
      "Processing Record 210 of Set 1 | jamestown\n",
      "Processing Record 211 of Set 1 | san patricio\n",
      "Processing Record 212 of Set 1 | santa isabel do rio negro\n",
      "Processing Record 213 of Set 1 | mount gambier\n",
      "Processing Record 214 of Set 1 | kaitangata\n",
      "Processing Record 215 of Set 1 | bure\n",
      "Processing Record 216 of Set 1 | petropavlovsk-kamchatskiy\n",
      "Processing Record 217 of Set 1 | north bend\n",
      "Processing Record 218 of Set 1 | mabaruma\n",
      "Processing Record 219 of Set 1 | aksu\n",
      "Processing Record 220 of Set 1 | provideniya\n",
      "Processing Record 221 of Set 1 | gweta\n",
      "Processing Record 222 of Set 1 | bobrovka\n",
      "Processing Record 223 of Set 1 | jaguaquara\n",
      "Processing Record 224 of Set 1 | cockburn town\n",
      "Processing Record 225 of Set 1 | tarbagatay\n",
      "Processing Record 226 of Set 1 | manturovo\n",
      "Processing Record 227 of Set 1 | reporoa\n",
      "Processing Record 228 of Set 1 | chuy\n",
      "Processing Record 229 of Set 1 | shaunavon\n",
      "Processing Record 230 of Set 1 | killarney\n",
      "Processing Record 231 of Set 1 | ponta do sol\n",
      "Processing Record 232 of Set 1 | san quintin\n",
      "Processing Record 233 of Set 1 | loma alta\n",
      "Processing Record 234 of Set 1 | hidalgo\n",
      "Processing Record 235 of Set 1 | koubia\n",
      "Processing Record 236 of Set 1 | ohara\n",
      "Processing Record 237 of Set 1 | adrar\n",
      "Processing Record 238 of Set 1 | tuatapere\n",
      "Processing Record 239 of Set 1 | havre-saint-pierre\n",
      "Processing Record 240 of Set 1 | svetlogorsk\n",
      "Processing Record 241 of Set 1 | alofi\n",
      "Processing Record 242 of Set 1 | victoria\n",
      "Processing Record 243 of Set 1 | vestmannaeyjar\n",
      "Processing Record 244 of Set 1 | phibun mangsahan\n",
      "Processing Record 245 of Set 1 | uvinza\n",
      "Processing Record 246 of Set 1 | burgeo\n",
      "Processing Record 247 of Set 1 | miquelon\n",
      "Processing Record 248 of Set 1 | mar del plata\n",
      "Processing Record 249 of Set 1 | meyungs\n",
      "key not found\n",
      "Processing Record 249 of Set 1 | shimoda\n",
      "Processing Record 250 of Set 1 | serebryansk\n",
      "Processing Record 251 of Set 1 | ocampo\n",
      "Processing Record 252 of Set 1 | bengkulu\n",
      "Processing Record 253 of Set 1 | dingle\n",
      "Processing Record 254 of Set 1 | visby\n",
      "Processing Record 255 of Set 1 | ondjiva\n",
      "Processing Record 256 of Set 1 | hambantota\n",
      "Processing Record 257 of Set 1 | mayor pablo lagerenza\n",
      "Processing Record 258 of Set 1 | bonnyville\n",
      "Processing Record 259 of Set 1 | rio gallegos\n",
      "Processing Record 260 of Set 1 | prince george\n",
      "Processing Record 261 of Set 1 | jinchang\n",
      "Processing Record 262 of Set 1 | lorengau\n",
      "Processing Record 263 of Set 1 | kirkwall\n",
      "Processing Record 264 of Set 1 | itarema\n",
      "Processing Record 265 of Set 1 | la ciotat\n",
      "Processing Record 266 of Set 1 | grand gaube\n",
      "Processing Record 267 of Set 1 | loa janan\n",
      "Processing Record 268 of Set 1 | tabiauea\n",
      "key not found\n",
      "Processing Record 268 of Set 1 | port moresby\n",
      "Processing Record 269 of Set 1 | zyryanka\n",
      "Processing Record 270 of Set 1 | isla mujeres\n",
      "Processing Record 271 of Set 1 | laguna\n",
      "Processing Record 272 of Set 1 | solnechnyy\n",
      "Processing Record 273 of Set 1 | onguday\n",
      "Processing Record 274 of Set 1 | talnakh\n",
      "Processing Record 275 of Set 1 | nargana\n",
      "Processing Record 276 of Set 1 | marquette\n",
      "Processing Record 277 of Set 1 | necochea\n",
      "Processing Record 278 of Set 1 | makung\n",
      "key not found\n",
      "Processing Record 278 of Set 1 | port hawkesbury\n",
      "Processing Record 279 of Set 1 | humberto de campos\n",
      "Processing Record 280 of Set 1 | aripuana\n",
      "Processing Record 281 of Set 1 | teshie\n",
      "Processing Record 282 of Set 1 | fairbanks\n",
      "Processing Record 283 of Set 1 | eyl\n",
      "Processing Record 284 of Set 1 | san juan\n",
      "Processing Record 285 of Set 1 | tawkar\n",
      "key not found\n",
      "Processing Record 285 of Set 1 | pisco\n",
      "Processing Record 286 of Set 1 | bell ville\n",
      "Processing Record 287 of Set 1 | cradock\n",
      "Processing Record 288 of Set 1 | kayes\n",
      "Processing Record 289 of Set 1 | galle\n",
      "Processing Record 290 of Set 1 | kailua\n",
      "Processing Record 291 of Set 1 | ugoofaaru\n",
      "Processing Record 292 of Set 1 | andros town\n",
      "Processing Record 293 of Set 1 | buchanan\n",
      "Processing Record 294 of Set 1 | chippewa falls\n",
      "Processing Record 295 of Set 1 | viseu\n",
      "Processing Record 296 of Set 1 | zolotukhino\n",
      "Processing Record 297 of Set 1 | pangnirtung\n",
      "Processing Record 298 of Set 1 | portel\n",
      "Processing Record 299 of Set 1 | vernon\n",
      "Processing Record 300 of Set 1 | mosquera\n",
      "Processing Record 301 of Set 1 | astana\n",
      "Processing Record 302 of Set 1 | puerto ayora\n",
      "Processing Record 303 of Set 1 | saint anthony\n",
      "Processing Record 304 of Set 1 | ngaoundere\n",
      "Processing Record 305 of Set 1 | yuzhno-yeniseyskiy\n",
      "key not found\n",
      "Processing Record 305 of Set 1 | batticaloa\n",
      "Processing Record 306 of Set 1 | hwange\n",
      "Processing Record 307 of Set 1 | oktyabrskoye\n",
      "Processing Record 308 of Set 1 | abrau-dyurso\n",
      "Processing Record 309 of Set 1 | lowestoft\n",
      "Processing Record 310 of Set 1 | fengrun\n",
      "Processing Record 311 of Set 1 | whitehorse\n",
      "Processing Record 312 of Set 1 | nyurba\n",
      "Processing Record 313 of Set 1 | bradford\n",
      "Processing Record 314 of Set 1 | tskaltubo\n",
      "Processing Record 315 of Set 1 | zlobin\n",
      "Processing Record 316 of Set 1 | port-gentil\n",
      "Processing Record 317 of Set 1 | pahrump\n",
      "Processing Record 318 of Set 1 | sandwick\n",
      "Processing Record 319 of Set 1 | pacific grove\n",
      "Processing Record 320 of Set 1 | bereslavka\n",
      "Processing Record 321 of Set 1 | walvis bay\n",
      "Processing Record 322 of Set 1 | kupang\n",
      "Processing Record 323 of Set 1 | smithers\n",
      "Processing Record 324 of Set 1 | komsomolskiy\n",
      "Processing Record 325 of Set 1 | cassilandia\n",
      "Processing Record 326 of Set 1 | bull savanna\n",
      "Processing Record 327 of Set 1 | baiyin\n",
      "Processing Record 328 of Set 1 | pacifica\n",
      "Processing Record 329 of Set 1 | ahipara\n",
      "Processing Record 330 of Set 1 | nouakchott\n",
      "Processing Record 331 of Set 1 | chinsali\n",
      "Processing Record 332 of Set 1 | porto novo\n",
      "Processing Record 333 of Set 1 | algiers\n",
      "Processing Record 334 of Set 1 | toda raisingh\n",
      "Processing Record 335 of Set 1 | enkoping\n",
      "Processing Record 336 of Set 1 | dondo\n",
      "Processing Record 337 of Set 1 | dakar\n",
      "Processing Record 338 of Set 1 | bintulu\n",
      "Processing Record 339 of Set 1 | san luis\n",
      "Processing Record 340 of Set 1 | igarka\n",
      "Processing Record 341 of Set 1 | kulhudhuffushi\n",
      "Processing Record 342 of Set 1 | notre-dame-du-lac\n",
      "Processing Record 343 of Set 1 | yar-sale\n",
      "Processing Record 344 of Set 1 | kyren\n",
      "Processing Record 345 of Set 1 | sao filipe\n",
      "Processing Record 346 of Set 1 | herat\n",
      "Processing Record 347 of Set 1 | vardo\n",
      "Processing Record 348 of Set 1 | vilhena\n",
      "Processing Record 349 of Set 1 | rawson\n",
      "Processing Record 350 of Set 1 | gwadar\n",
      "Processing Record 351 of Set 1 | diego de almagro\n",
      "Processing Record 352 of Set 1 | luancheng\n",
      "Processing Record 353 of Set 1 | pemangkat\n",
      "Processing Record 354 of Set 1 | lockhart\n",
      "Processing Record 355 of Set 1 | victor harbor\n",
      "Processing Record 356 of Set 1 | aswan\n",
      "Processing Record 357 of Set 1 | sorvag\n",
      "key not found\n",
      "Processing Record 357 of Set 1 | le port\n",
      "Processing Record 358 of Set 1 | debre zeyit\n",
      "Processing Record 359 of Set 1 | shubarshi\n",
      "Processing Record 360 of Set 1 | muravlenko\n",
      "Processing Record 361 of Set 1 | ovsyanka\n",
      "Processing Record 362 of Set 1 | humaita\n",
      "Processing Record 363 of Set 1 | port hedland\n",
      "Processing Record 364 of Set 1 | taksimo\n",
      "Processing Record 365 of Set 1 | midwest city\n",
      "Processing Record 366 of Set 1 | manono\n",
      "Processing Record 367 of Set 1 | zonguldak\n",
      "Processing Record 368 of Set 1 | gidam\n",
      "Processing Record 369 of Set 1 | jamame\n",
      "Processing Record 370 of Set 1 | sisimiut\n",
      "Processing Record 371 of Set 1 | tabuk\n",
      "Processing Record 372 of Set 1 | port blair\n",
      "Processing Record 373 of Set 1 | lavrentiya\n",
      "Processing Record 374 of Set 1 | malibu\n",
      "Processing Record 375 of Set 1 | carroll\n",
      "Processing Record 376 of Set 1 | berdigestyakh\n",
      "Processing Record 377 of Set 1 | camacha\n",
      "Processing Record 378 of Set 1 | naze\n",
      "Processing Record 379 of Set 1 | nyrob\n",
      "Processing Record 380 of Set 1 | wanaka\n",
      "Processing Record 381 of Set 1 | mahadday weyne\n",
      "key not found\n",
      "Processing Record 381 of Set 1 | lodwar\n",
      "Processing Record 382 of Set 1 | nalut\n",
      "Processing Record 383 of Set 1 | cidreira\n",
      "Processing Record 384 of Set 1 | valera\n",
      "Processing Record 385 of Set 1 | tikhvin\n",
      "Processing Record 386 of Set 1 | lengshuitan\n",
      "Processing Record 387 of Set 1 | kathu\n",
      "Processing Record 388 of Set 1 | bowen\n",
      "Processing Record 389 of Set 1 | saint-augustin\n",
      "Processing Record 390 of Set 1 | sioux lookout\n",
      "Processing Record 391 of Set 1 | saint-vallier\n",
      "Processing Record 392 of Set 1 | daniel flores\n",
      "Processing Record 393 of Set 1 | general pico\n",
      "Processing Record 394 of Set 1 | indramayu\n",
      "Processing Record 395 of Set 1 | calamar\n",
      "Processing Record 396 of Set 1 | nishihara\n",
      "Processing Record 397 of Set 1 | emerald\n",
      "Processing Record 398 of Set 1 | maracaibo\n",
      "Processing Record 399 of Set 1 | syracuse\n",
      "Processing Record 400 of Set 1 | cam ranh\n",
      "Processing Record 401 of Set 1 | bar bigha\n",
      "Processing Record 402 of Set 1 | poselki\n",
      "Processing Record 403 of Set 1 | puri\n",
      "Processing Record 404 of Set 1 | mattru\n",
      "Processing Record 405 of Set 1 | kaura namoda\n",
      "Processing Record 406 of Set 1 | waslala\n",
      "Processing Record 407 of Set 1 | bemidji\n",
      "Processing Record 408 of Set 1 | port elizabeth\n",
      "Processing Record 409 of Set 1 | goderich\n",
      "Processing Record 410 of Set 1 | qaqortoq\n",
      "Processing Record 411 of Set 1 | churapcha\n",
      "Processing Record 412 of Set 1 | hualmay\n",
      "Processing Record 413 of Set 1 | puerto maldonado\n",
      "Processing Record 414 of Set 1 | whitehaven\n",
      "Processing Record 415 of Set 1 | diffa\n",
      "Processing Record 416 of Set 1 | yining\n",
      "Processing Record 417 of Set 1 | khonuu\n",
      "key not found\n",
      "Processing Record 417 of Set 1 | dunedin\n",
      "Processing Record 418 of Set 1 | auki\n",
      "Processing Record 419 of Set 1 | quelimane\n",
      "Processing Record 420 of Set 1 | chicama\n",
      "Processing Record 421 of Set 1 | korla\n",
      "Processing Record 422 of Set 1 | sayhat\n",
      "Processing Record 423 of Set 1 | weligama\n",
      "Processing Record 424 of Set 1 | suntar\n",
      "Processing Record 425 of Set 1 | tecoanapa\n",
      "Processing Record 426 of Set 1 | haines junction\n",
      "Processing Record 427 of Set 1 | prykolotne\n",
      "Processing Record 428 of Set 1 | catuday\n",
      "Processing Record 429 of Set 1 | mahebourg\n",
      "Processing Record 430 of Set 1 | kruisfontein\n",
      "Processing Record 431 of Set 1 | balakhninskiy\n",
      "Processing Record 432 of Set 1 | rocha\n",
      "Processing Record 433 of Set 1 | ambilobe\n",
      "Processing Record 434 of Set 1 | yatou\n",
      "Processing Record 435 of Set 1 | ongandjera\n",
      "Processing Record 436 of Set 1 | bayan\n",
      "Processing Record 437 of Set 1 | bitung\n",
      "Processing Record 438 of Set 1 | port hardy\n",
      "Processing Record 439 of Set 1 | ilulissat\n",
      "Processing Record 440 of Set 1 | amazar\n",
      "Processing Record 441 of Set 1 | iracoubo\n",
      "Processing Record 442 of Set 1 | oktyabrskiy\n",
      "Processing Record 443 of Set 1 | wattegama\n",
      "Processing Record 444 of Set 1 | wahiawa\n",
      "Processing Record 445 of Set 1 | bondoukou\n",
      "Processing Record 446 of Set 1 | kaseda\n",
      "Processing Record 447 of Set 1 | kaiyuan\n",
      "Processing Record 448 of Set 1 | sechura\n",
      "Processing Record 449 of Set 1 | callaway\n",
      "Processing Record 450 of Set 1 | chagda\n",
      "key not found\n",
      "Processing Record 450 of Set 1 | cairns\n",
      "Processing Record 451 of Set 1 | almeirim\n",
      "Processing Record 452 of Set 1 | nivala\n",
      "Processing Record 453 of Set 1 | grosse pointe farms\n",
      "Processing Record 454 of Set 1 | ruatoria\n",
      "key not found\n",
      "Processing Record 454 of Set 1 | yibin\n",
      "Processing Record 455 of Set 1 | sangar\n",
      "Processing Record 456 of Set 1 | dawlatabad\n",
      "Processing Record 457 of Set 1 | abilene\n",
      "Processing Record 458 of Set 1 | tupiza\n",
      "Processing Record 459 of Set 1 | weihe\n",
      "Processing Record 460 of Set 1 | were ilu\n",
      "Processing Record 461 of Set 1 | bourail\n",
      "Processing Record 462 of Set 1 | ribeira grande\n",
      "Processing Record 463 of Set 1 | buraydah\n",
      "Processing Record 464 of Set 1 | kadykchan\n",
      "key not found\n",
      "Processing Record 464 of Set 1 | zeya\n",
      "Processing Record 465 of Set 1 | shiyan\n",
      "Processing Record 466 of Set 1 | biak\n",
      "Processing Record 467 of Set 1 | kieta\n",
      "Processing Record 468 of Set 1 | seydi\n",
      "Processing Record 469 of Set 1 | puerto del rosario\n",
      "Processing Record 470 of Set 1 | noyabrsk\n",
      "Processing Record 471 of Set 1 | kuruman\n",
      "Processing Record 472 of Set 1 | aklavik\n",
      "Processing Record 473 of Set 1 | rantauprapat\n",
      "Processing Record 474 of Set 1 | tacuarembo\n",
      "Processing Record 475 of Set 1 | vila franca do campo\n",
      "Processing Record 476 of Set 1 | saleaula\n",
      "key not found\n",
      "Processing Record 476 of Set 1 | codrington\n",
      "Processing Record 477 of Set 1 | launceston\n",
      "Processing Record 478 of Set 1 | kamaishi\n",
      "Processing Record 479 of Set 1 | tucuman\n",
      "Processing Record 480 of Set 1 | hammerfest\n",
      "Processing Record 481 of Set 1 | boende\n",
      "Processing Record 482 of Set 1 | roshchino\n",
      "Processing Record 483 of Set 1 | dire\n",
      "Processing Record 484 of Set 1 | cobija\n",
      "Processing Record 485 of Set 1 | west bay\n",
      "Processing Record 486 of Set 1 | bonfim\n",
      "Processing Record 487 of Set 1 | khani\n",
      "Processing Record 488 of Set 1 | mocuba\n",
      "Processing Record 489 of Set 1 | asfi\n",
      "Processing Record 490 of Set 1 | santa fe\n",
      "Processing Record 491 of Set 1 | aberdeen\n",
      "Processing Record 492 of Set 1 | lake havasu city\n",
      "Processing Record 493 of Set 1 | sistranda\n",
      "Processing Record 494 of Set 1 | isangel\n",
      "Processing Record 495 of Set 1 | namibe\n",
      "Processing Record 496 of Set 1 | soure\n",
      "Processing Record 497 of Set 1 | yelizovo\n",
      "Processing Record 498 of Set 1 | xining\n",
      "Processing Record 499 of Set 1 | kasongo-lunda\n",
      "Processing Record 500 of Set 1 | salalah\n",
      "Processing Record 501 of Set 1 | mecca\n",
      "Processing Record 502 of Set 1 | anloga\n",
      "Processing Record 503 of Set 1 | victoria point\n",
      "Processing Record 504 of Set 1 | innisfail\n",
      "Processing Record 505 of Set 1 | sao geraldo do araguaia\n",
      "Processing Record 506 of Set 1 | alihe\n",
      "Processing Record 507 of Set 1 | ayan\n",
      "Processing Record 508 of Set 1 | semporna\n",
      "Processing Record 509 of Set 1 | madimba\n",
      "Processing Record 510 of Set 1 | ocos\n",
      "Processing Record 511 of Set 1 | khagrachari\n",
      "key not found\n",
      "Processing Record 511 of Set 1 | maragogi\n",
      "Processing Record 512 of Set 1 | sao miguel do araguaia\n",
      "Processing Record 513 of Set 1 | ichinohe\n",
      "Processing Record 514 of Set 1 | gorontalo\n",
      "Processing Record 515 of Set 1 | nuevo progreso\n",
      "Processing Record 516 of Set 1 | akhtubinsk\n",
      "Processing Record 517 of Set 1 | savannah bight\n",
      "Processing Record 518 of Set 1 | fomboni\n",
      "Processing Record 519 of Set 1 | christchurch\n",
      "Processing Record 520 of Set 1 | bocaranga\n",
      "key not found\n",
      "Processing Record 520 of Set 1 | san lazaro\n",
      "Processing Record 521 of Set 1 | ketchikan\n",
      "Processing Record 522 of Set 1 | moose factory\n",
      "Processing Record 523 of Set 1 | kyle of lochalsh\n",
      "key not found\n",
      "Processing Record 523 of Set 1 | lata\n",
      "Processing Record 524 of Set 1 | hyeres\n",
      "Processing Record 525 of Set 1 | vao\n",
      "Processing Record 526 of Set 1 | gizo\n",
      "Processing Record 527 of Set 1 | kropotkin\n",
      "Processing Record 528 of Set 1 | mo i rana\n",
      "Processing Record 529 of Set 1 | kudahuvadhoo\n",
      "Processing Record 530 of Set 1 | kasempa\n",
      "Processing Record 531 of Set 1 | aleksandrov gay\n",
      "Processing Record 532 of Set 1 | ovalle\n",
      "Processing Record 533 of Set 1 | mago\n",
      "Processing Record 534 of Set 1 | araouane\n",
      "Processing Record 535 of Set 1 | banjar\n",
      "Processing Record 536 of Set 1 | tonantins\n",
      "Processing Record 537 of Set 1 | beloha\n",
      "Processing Record 538 of Set 1 | tahta\n",
      "Processing Record 539 of Set 1 | beringovskiy\n",
      "Processing Record 540 of Set 1 | ierapetra\n",
      "Processing Record 541 of Set 1 | toliary\n",
      "key not found\n",
      "Processing Record 541 of Set 1 | rwamagana\n",
      "Processing Record 542 of Set 1 | virginia beach\n",
      "Processing Record 543 of Set 1 | vikhorevka\n",
      "Processing Record 544 of Set 1 | tura\n",
      "Processing Record 545 of Set 1 | rincon\n",
      "Processing Record 546 of Set 1 | kununurra\n",
      "Processing Record 547 of Set 1 | san cristobal\n",
      "Processing Record 548 of Set 1 | dzaoudzi\n",
      "Processing Record 549 of Set 1 | alamosa\n",
      "Processing Record 550 of Set 1 | casper\n",
      "Processing Record 551 of Set 1 | shaoguan\n",
      "Processing Record 552 of Set 1 | cherepovets\n",
      "Processing Record 553 of Set 1 | xingyi\n",
      "Processing Record 554 of Set 1 | roma\n",
      "Processing Record 555 of Set 1 | baracoa\n",
      "Processing Record 556 of Set 1 | broome\n",
      "Processing Record 557 of Set 1 | ostersund\n",
      "Processing Record 558 of Set 1 | matagami\n",
      "Processing Record 559 of Set 1 | richards bay\n",
      "Processing Record 560 of Set 1 | salvador\n",
      "---------------------------------------------\n",
      "Data Retrieval Complete\n",
      "---------------------------------------------\n"
     ]
    }
   ],
   "source": [
    "from pprint import pprint\n",
    "url = \"http://api.openweathermap.org/data/2.5/weather?\"\n",
    "query_url = f\"{url}appid={weather_api_key}&q=\"\n",
    "\n",
    "i = 1\n",
    "\n",
    "cit = []\n",
    "lat = [] \n",
    "lng = []\n",
    "max_temp = []\n",
    "humidity = [] \n",
    "cloudiness = [] \n",
    "windspeed = []\n",
    "country = [] \n",
    "date = []\n",
    "\n",
    "\n",
    "for city in cities:\n",
    "    try:\n",
    "        response = requests.get(query_url + city).json()\n",
    "        print(f\"Processing Record {i} of Set 1 | {city}\")\n",
    "        cit.append(response[\"name\"])\n",
    "        lat.append(response[\"coord\"][\"lat\"])\n",
    "        lng.append(response[\"coord\"][\"lon\"])\n",
    "        max_temp.append(response[\"main\"][\"temp_max\"])\n",
    "        humidity.append(response[\"main\"][\"humidity\"])\n",
    "        cloudiness.append(response[\"clouds\"][\"all\"])\n",
    "        windspeed.append(response[\"wind\"][\"speed\"])\n",
    "        country.append(response[\"sys\"][\"country\"])\n",
    "        date.append(response[\"dt\"])\n",
    "        i += 1\n",
    "\n",
    "    except KeyError:\n",
    "        print(\"key not found\")\n",
    "        pass\n",
    "print(\"-\"*45)\n",
    "print(\"Data Retrieval Complete\")   \n",
    "print(\"-\"*45)"
   ]
  },
  {
   "cell_type": "code",
   "execution_count": null,
   "metadata": {
    "scrolled": true
   },
   "outputs": [],
   "source": []
  },
  {
   "cell_type": "markdown",
   "metadata": {},
   "source": [
    "### Convert Raw Data to DataFrame\n",
    "* Export the city data into a .csv.\n",
    "* Display the DataFrame"
   ]
  },
  {
   "cell_type": "code",
   "execution_count": 4,
   "metadata": {},
   "outputs": [
    {
     "data": {
      "text/html": [
       "<div>\n",
       "<style scoped>\n",
       "    .dataframe tbody tr th:only-of-type {\n",
       "        vertical-align: middle;\n",
       "    }\n",
       "\n",
       "    .dataframe tbody tr th {\n",
       "        vertical-align: top;\n",
       "    }\n",
       "\n",
       "    .dataframe thead th {\n",
       "        text-align: right;\n",
       "    }\n",
       "</style>\n",
       "<table border=\"1\" class=\"dataframe\">\n",
       "  <thead>\n",
       "    <tr style=\"text-align: right;\">\n",
       "      <th></th>\n",
       "      <th>City</th>\n",
       "      <th>Lat</th>\n",
       "      <th>Lng</th>\n",
       "      <th>Max Temp</th>\n",
       "      <th>Humidity</th>\n",
       "      <th>Cloudiness</th>\n",
       "      <th>Wind Speed</th>\n",
       "      <th>Country</th>\n",
       "      <th>Date</th>\n",
       "    </tr>\n",
       "  </thead>\n",
       "  <tbody>\n",
       "    <tr>\n",
       "      <th>0</th>\n",
       "      <td>Saint George</td>\n",
       "      <td>37.1041</td>\n",
       "      <td>-113.5841</td>\n",
       "      <td>293.68</td>\n",
       "      <td>39</td>\n",
       "      <td>0</td>\n",
       "      <td>1.79</td>\n",
       "      <td>US</td>\n",
       "      <td>1665387064</td>\n",
       "    </tr>\n",
       "    <tr>\n",
       "      <th>1</th>\n",
       "      <td>Castro</td>\n",
       "      <td>-24.7911</td>\n",
       "      <td>-50.0119</td>\n",
       "      <td>286.47</td>\n",
       "      <td>98</td>\n",
       "      <td>100</td>\n",
       "      <td>4.01</td>\n",
       "      <td>BR</td>\n",
       "      <td>1665387065</td>\n",
       "    </tr>\n",
       "    <tr>\n",
       "      <th>2</th>\n",
       "      <td>Yellowknife</td>\n",
       "      <td>62.4560</td>\n",
       "      <td>-114.3525</td>\n",
       "      <td>281.44</td>\n",
       "      <td>93</td>\n",
       "      <td>75</td>\n",
       "      <td>4.63</td>\n",
       "      <td>CA</td>\n",
       "      <td>1665386878</td>\n",
       "    </tr>\n",
       "    <tr>\n",
       "      <th>3</th>\n",
       "      <td>Port Alfred</td>\n",
       "      <td>-33.5906</td>\n",
       "      <td>26.8910</td>\n",
       "      <td>295.47</td>\n",
       "      <td>73</td>\n",
       "      <td>98</td>\n",
       "      <td>3.13</td>\n",
       "      <td>ZA</td>\n",
       "      <td>1665387066</td>\n",
       "    </tr>\n",
       "    <tr>\n",
       "      <th>4</th>\n",
       "      <td>George Town</td>\n",
       "      <td>5.4112</td>\n",
       "      <td>100.3354</td>\n",
       "      <td>305.11</td>\n",
       "      <td>72</td>\n",
       "      <td>20</td>\n",
       "      <td>5.14</td>\n",
       "      <td>MY</td>\n",
       "      <td>1665387028</td>\n",
       "    </tr>\n",
       "    <tr>\n",
       "      <th>...</th>\n",
       "      <td>...</td>\n",
       "      <td>...</td>\n",
       "      <td>...</td>\n",
       "      <td>...</td>\n",
       "      <td>...</td>\n",
       "      <td>...</td>\n",
       "      <td>...</td>\n",
       "      <td>...</td>\n",
       "      <td>...</td>\n",
       "    </tr>\n",
       "    <tr>\n",
       "      <th>555</th>\n",
       "      <td>Broome</td>\n",
       "      <td>42.2506</td>\n",
       "      <td>-75.8330</td>\n",
       "      <td>281.03</td>\n",
       "      <td>87</td>\n",
       "      <td>58</td>\n",
       "      <td>1.66</td>\n",
       "      <td>US</td>\n",
       "      <td>1665387277</td>\n",
       "    </tr>\n",
       "    <tr>\n",
       "      <th>556</th>\n",
       "      <td>Östersund</td>\n",
       "      <td>63.1792</td>\n",
       "      <td>14.6357</td>\n",
       "      <td>282.93</td>\n",
       "      <td>71</td>\n",
       "      <td>40</td>\n",
       "      <td>3.60</td>\n",
       "      <td>SE</td>\n",
       "      <td>1665387139</td>\n",
       "    </tr>\n",
       "    <tr>\n",
       "      <th>557</th>\n",
       "      <td>Matagami</td>\n",
       "      <td>49.7502</td>\n",
       "      <td>-77.6328</td>\n",
       "      <td>274.21</td>\n",
       "      <td>93</td>\n",
       "      <td>100</td>\n",
       "      <td>2.06</td>\n",
       "      <td>CA</td>\n",
       "      <td>1665387158</td>\n",
       "    </tr>\n",
       "    <tr>\n",
       "      <th>558</th>\n",
       "      <td>Richards Bay</td>\n",
       "      <td>-28.7830</td>\n",
       "      <td>32.0377</td>\n",
       "      <td>298.07</td>\n",
       "      <td>56</td>\n",
       "      <td>73</td>\n",
       "      <td>4.65</td>\n",
       "      <td>ZA</td>\n",
       "      <td>1665387278</td>\n",
       "    </tr>\n",
       "    <tr>\n",
       "      <th>559</th>\n",
       "      <td>El Salvador</td>\n",
       "      <td>13.8333</td>\n",
       "      <td>-88.9167</td>\n",
       "      <td>294.37</td>\n",
       "      <td>99</td>\n",
       "      <td>100</td>\n",
       "      <td>1.14</td>\n",
       "      <td>SV</td>\n",
       "      <td>1665387158</td>\n",
       "    </tr>\n",
       "  </tbody>\n",
       "</table>\n",
       "<p>560 rows × 9 columns</p>\n",
       "</div>"
      ],
      "text/plain": [
       "             City      Lat       Lng  Max Temp  Humidity  Cloudiness  \\\n",
       "0    Saint George  37.1041 -113.5841    293.68        39           0   \n",
       "1          Castro -24.7911  -50.0119    286.47        98         100   \n",
       "2     Yellowknife  62.4560 -114.3525    281.44        93          75   \n",
       "3     Port Alfred -33.5906   26.8910    295.47        73          98   \n",
       "4     George Town   5.4112  100.3354    305.11        72          20   \n",
       "..            ...      ...       ...       ...       ...         ...   \n",
       "555        Broome  42.2506  -75.8330    281.03        87          58   \n",
       "556     Östersund  63.1792   14.6357    282.93        71          40   \n",
       "557      Matagami  49.7502  -77.6328    274.21        93         100   \n",
       "558  Richards Bay -28.7830   32.0377    298.07        56          73   \n",
       "559   El Salvador  13.8333  -88.9167    294.37        99         100   \n",
       "\n",
       "     Wind Speed Country        Date  \n",
       "0          1.79      US  1665387064  \n",
       "1          4.01      BR  1665387065  \n",
       "2          4.63      CA  1665386878  \n",
       "3          3.13      ZA  1665387066  \n",
       "4          5.14      MY  1665387028  \n",
       "..          ...     ...         ...  \n",
       "555        1.66      US  1665387277  \n",
       "556        3.60      SE  1665387139  \n",
       "557        2.06      CA  1665387158  \n",
       "558        4.65      ZA  1665387278  \n",
       "559        1.14      SV  1665387158  \n",
       "\n",
       "[560 rows x 9 columns]"
      ]
     },
     "execution_count": 4,
     "metadata": {},
     "output_type": "execute_result"
    }
   ],
   "source": [
    "cit, lat, lng, max_temp, humidity, cloudiness, windspeed, country, date\n",
    "weather_dict = {\n",
    "    \"City\": cit,\n",
    "    \"Lat\": lat,\n",
    "    \"Lng\": lng,   \n",
    "    \"Max Temp\": max_temp,\n",
    "    \"Humidity\": humidity,\n",
    "    \"Cloudiness\":cloudiness,\n",
    "    \"Wind Speed\":windspeed,\n",
    "    \"Country\":country,\n",
    "    \"Date\":date\n",
    "}\n",
    "weather_data = pd.DataFrame(weather_dict)\n",
    "weather_data"
   ]
  },
  {
   "cell_type": "code",
   "execution_count": 5,
   "metadata": {},
   "outputs": [
    {
     "data": {
      "text/html": [
       "<div>\n",
       "<style scoped>\n",
       "    .dataframe tbody tr th:only-of-type {\n",
       "        vertical-align: middle;\n",
       "    }\n",
       "\n",
       "    .dataframe tbody tr th {\n",
       "        vertical-align: top;\n",
       "    }\n",
       "\n",
       "    .dataframe thead th {\n",
       "        text-align: right;\n",
       "    }\n",
       "</style>\n",
       "<table border=\"1\" class=\"dataframe\">\n",
       "  <thead>\n",
       "    <tr style=\"text-align: right;\">\n",
       "      <th></th>\n",
       "      <th>Lat</th>\n",
       "      <th>Lng</th>\n",
       "      <th>Max Temp</th>\n",
       "      <th>Humidity</th>\n",
       "      <th>Cloudiness</th>\n",
       "      <th>Wind Speed</th>\n",
       "      <th>Date</th>\n",
       "    </tr>\n",
       "  </thead>\n",
       "  <tbody>\n",
       "    <tr>\n",
       "      <th>count</th>\n",
       "      <td>560.000000</td>\n",
       "      <td>560.000000</td>\n",
       "      <td>560.000000</td>\n",
       "      <td>560.000000</td>\n",
       "      <td>560.000000</td>\n",
       "      <td>560.000000</td>\n",
       "      <td>5.600000e+02</td>\n",
       "    </tr>\n",
       "    <tr>\n",
       "      <th>mean</th>\n",
       "      <td>20.830540</td>\n",
       "      <td>15.665462</td>\n",
       "      <td>289.805161</td>\n",
       "      <td>70.110714</td>\n",
       "      <td>56.669643</td>\n",
       "      <td>3.765607</td>\n",
       "      <td>1.665387e+09</td>\n",
       "    </tr>\n",
       "    <tr>\n",
       "      <th>std</th>\n",
       "      <td>33.640713</td>\n",
       "      <td>90.707285</td>\n",
       "      <td>10.300319</td>\n",
       "      <td>23.098650</td>\n",
       "      <td>40.245799</td>\n",
       "      <td>2.801627</td>\n",
       "      <td>8.836997e+01</td>\n",
       "    </tr>\n",
       "    <tr>\n",
       "      <th>min</th>\n",
       "      <td>-54.800000</td>\n",
       "      <td>-175.200000</td>\n",
       "      <td>258.490000</td>\n",
       "      <td>5.000000</td>\n",
       "      <td>0.000000</td>\n",
       "      <td>0.000000</td>\n",
       "      <td>1.665387e+09</td>\n",
       "    </tr>\n",
       "    <tr>\n",
       "      <th>25%</th>\n",
       "      <td>-6.484950</td>\n",
       "      <td>-65.132375</td>\n",
       "      <td>282.175000</td>\n",
       "      <td>58.000000</td>\n",
       "      <td>13.000000</td>\n",
       "      <td>1.657500</td>\n",
       "      <td>1.665387e+09</td>\n",
       "    </tr>\n",
       "    <tr>\n",
       "      <th>50%</th>\n",
       "      <td>26.074950</td>\n",
       "      <td>18.950950</td>\n",
       "      <td>291.150000</td>\n",
       "      <td>75.000000</td>\n",
       "      <td>72.000000</td>\n",
       "      <td>3.090000</td>\n",
       "      <td>1.665387e+09</td>\n",
       "    </tr>\n",
       "    <tr>\n",
       "      <th>75%</th>\n",
       "      <td>50.111825</td>\n",
       "      <td>98.708225</td>\n",
       "      <td>298.375000</td>\n",
       "      <td>88.000000</td>\n",
       "      <td>100.000000</td>\n",
       "      <td>5.105000</td>\n",
       "      <td>1.665387e+09</td>\n",
       "    </tr>\n",
       "    <tr>\n",
       "      <th>max</th>\n",
       "      <td>78.218600</td>\n",
       "      <td>179.316700</td>\n",
       "      <td>311.140000</td>\n",
       "      <td>100.000000</td>\n",
       "      <td>100.000000</td>\n",
       "      <td>17.960000</td>\n",
       "      <td>1.665387e+09</td>\n",
       "    </tr>\n",
       "  </tbody>\n",
       "</table>\n",
       "</div>"
      ],
      "text/plain": [
       "              Lat         Lng    Max Temp    Humidity  Cloudiness  Wind Speed  \\\n",
       "count  560.000000  560.000000  560.000000  560.000000  560.000000  560.000000   \n",
       "mean    20.830540   15.665462  289.805161   70.110714   56.669643    3.765607   \n",
       "std     33.640713   90.707285   10.300319   23.098650   40.245799    2.801627   \n",
       "min    -54.800000 -175.200000  258.490000    5.000000    0.000000    0.000000   \n",
       "25%     -6.484950  -65.132375  282.175000   58.000000   13.000000    1.657500   \n",
       "50%     26.074950   18.950950  291.150000   75.000000   72.000000    3.090000   \n",
       "75%     50.111825   98.708225  298.375000   88.000000  100.000000    5.105000   \n",
       "max     78.218600  179.316700  311.140000  100.000000  100.000000   17.960000   \n",
       "\n",
       "               Date  \n",
       "count  5.600000e+02  \n",
       "mean   1.665387e+09  \n",
       "std    8.836997e+01  \n",
       "min    1.665387e+09  \n",
       "25%    1.665387e+09  \n",
       "50%    1.665387e+09  \n",
       "75%    1.665387e+09  \n",
       "max    1.665387e+09  "
      ]
     },
     "execution_count": 5,
     "metadata": {},
     "output_type": "execute_result"
    }
   ],
   "source": [
    "weather_data.describe()\n"
   ]
  },
  {
   "cell_type": "code",
   "execution_count": null,
   "metadata": {},
   "outputs": [],
   "source": []
  },
  {
   "cell_type": "code",
   "execution_count": 6,
   "metadata": {},
   "outputs": [],
   "source": [
    "import os \n",
    "import csv\n",
    "weather_data.to_csv(r\"../output_data/cities.csv\", index = False)  "
   ]
  },
  {
   "cell_type": "code",
   "execution_count": null,
   "metadata": {},
   "outputs": [],
   "source": []
  },
  {
   "cell_type": "markdown",
   "metadata": {},
   "source": [
    "## Inspect the data and remove the cities where the humidity > 100%.\n",
    "----\n",
    "Skip this step if there are no cities that have humidity > 100%. "
   ]
  },
  {
   "cell_type": "code",
   "execution_count": 7,
   "metadata": {},
   "outputs": [
    {
     "data": {
      "text/html": [
       "<div>\n",
       "<style scoped>\n",
       "    .dataframe tbody tr th:only-of-type {\n",
       "        vertical-align: middle;\n",
       "    }\n",
       "\n",
       "    .dataframe tbody tr th {\n",
       "        vertical-align: top;\n",
       "    }\n",
       "\n",
       "    .dataframe thead th {\n",
       "        text-align: right;\n",
       "    }\n",
       "</style>\n",
       "<table border=\"1\" class=\"dataframe\">\n",
       "  <thead>\n",
       "    <tr style=\"text-align: right;\">\n",
       "      <th></th>\n",
       "      <th>City</th>\n",
       "      <th>Lat</th>\n",
       "      <th>Lng</th>\n",
       "      <th>Max Temp</th>\n",
       "      <th>Humidity</th>\n",
       "      <th>Cloudiness</th>\n",
       "      <th>Wind Speed</th>\n",
       "      <th>Country</th>\n",
       "      <th>Date</th>\n",
       "    </tr>\n",
       "  </thead>\n",
       "  <tbody>\n",
       "  </tbody>\n",
       "</table>\n",
       "</div>"
      ],
      "text/plain": [
       "Empty DataFrame\n",
       "Columns: [City, Lat, Lng, Max Temp, Humidity, Cloudiness, Wind Speed, Country, Date]\n",
       "Index: []"
      ]
     },
     "execution_count": 7,
     "metadata": {},
     "output_type": "execute_result"
    }
   ],
   "source": [
    "#  Get the indices of cities that have humidity over 100%.\n",
    "\n",
    "high_humid = weather_data[weather_data[\"Humidity\"] > 100]\n",
    "high_humid"
   ]
  },
  {
   "cell_type": "code",
   "execution_count": null,
   "metadata": {},
   "outputs": [],
   "source": []
  },
  {
   "cell_type": "code",
   "execution_count": null,
   "metadata": {},
   "outputs": [],
   "source": [
    "\n"
   ]
  },
  {
   "cell_type": "code",
   "execution_count": 8,
   "metadata": {},
   "outputs": [],
   "source": [
    "# Make a new DataFrame equal to the city data to drop all humidity outliers by index.\n",
    "# Passing \"inplace=False\" will make a copy of the city_data DataFrame, which we call \"clean_city_data\".\n"
   ]
  },
  {
   "cell_type": "code",
   "execution_count": null,
   "metadata": {},
   "outputs": [],
   "source": [
    "\n"
   ]
  },
  {
   "cell_type": "markdown",
   "metadata": {},
   "source": [
    "## Plotting the Data\n",
    "* Use proper labeling of the plots using plot titles (including date of analysis) and axes labels.\n",
    "* Save the plotted figures as .pngs."
   ]
  },
  {
   "cell_type": "markdown",
   "metadata": {},
   "source": [
    "## Latitude vs. Temperature Plot"
   ]
  },
  {
   "cell_type": "code",
   "execution_count": 9,
   "metadata": {},
   "outputs": [
    {
     "data": {
      "image/png": "[encoded data removed]",
      "text/plain": [
       "<Figure size 432x288 with 1 Axes>"
      ]
     },
     "metadata": {
      "needs_background": "light"
     },
     "output_type": "display_data"
    }
   ],
   "source": [
    "Latitude = weather_data[\"Lat\"]\n",
    "Temperature = weather_data[\"Max Temp\"]\n",
    "\n",
    "# Create Graph\n",
    "plt.scatter(Latitude, Temperature, edgecolors= \"black\")\n",
    "plt.grid()\n",
    "plt.xlabel(\"Latitude\")\n",
    "plt.ylabel(\"Max Temperature (F)\")\n",
    "plt.title(\"Lat vs. Max Temp\")\n",
    "\n",
    "plt.savefig('../output_data/figure1.png')\n",
    "plt.show()"
   ]
  },
  {
   "cell_type": "code",
   "execution_count": 10,
   "metadata": {
    "scrolled": true
   },
   "outputs": [],
   "source": [
    "#The code is analyzing the differences in max temp in regards to latitude. \n"
   ]
  },
  {
   "cell_type": "markdown",
   "metadata": {},
   "source": [
    "## Latitude vs. Humidity Plot"
   ]
  },
  {
   "cell_type": "code",
   "execution_count": 11,
   "metadata": {},
   "outputs": [
    {
     "data": {
      "image/png": "[encoded data removed]",
      "text/plain": [
       "<Figure size 432x288 with 1 Axes>"
      ]
     },
     "metadata": {
      "needs_background": "light"
     },
     "output_type": "display_data"
    }
   ],
   "source": [
    "\n",
    "humid = weather_data[\"Humidity\"]\n",
    "\n",
    "# Create Graph\n",
    "plt.scatter(Latitude, humid, edgecolors= \"black\")\n",
    "plt.grid()\n",
    "plt.xlabel(\"Latitude\")\n",
    "plt.ylabel(\"Humidity (%)\")\n",
    "plt.title(\"Lat vs. Humidity\")\n",
    "\n",
    "plt.savefig('../output_data/figure2.png')\n",
    "plt.show()"
   ]
  },
  {
   "cell_type": "code",
   "execution_count": 12,
   "metadata": {},
   "outputs": [],
   "source": [
    "#The code is analyzing the differences in humidity in regards to latitude. "
   ]
  },
  {
   "cell_type": "markdown",
   "metadata": {},
   "source": [
    "## Latitude vs. Cloudiness Plot"
   ]
  },
  {
   "cell_type": "code",
   "execution_count": 13,
   "metadata": {},
   "outputs": [
    {
     "data": {
      "image/png": "[encoded data removed]",
      "text/plain": [
       "<Figure size 432x288 with 1 Axes>"
      ]
     },
     "metadata": {
      "needs_background": "light"
     },
     "output_type": "display_data"
    }
   ],
   "source": [
    "\n",
    "Cloud = weather_data[\"Cloudiness\"]\n",
    "\n",
    "# Create Graph\n",
    "plt.scatter(Latitude, Cloud, edgecolors= \"black\")\n",
    "plt.grid()\n",
    "plt.xlabel(\"Latitude\")\n",
    "plt.ylabel(\"Cloudiness (%)\")\n",
    "plt.title(\"Lat vs. Cloudiness\")\n",
    "\n",
    "plt.savefig('../output_data/figure3.png')\n",
    "plt.show()"
   ]
  },
  {
   "cell_type": "code",
   "execution_count": 14,
   "metadata": {},
   "outputs": [],
   "source": [
    "#The code is analyzing the differences in cloudiness in regards to latitude. "
   ]
  },
  {
   "cell_type": "markdown",
   "metadata": {},
   "source": [
    "## Latitude vs. Wind Speed Plot"
   ]
  },
  {
   "cell_type": "code",
   "execution_count": 15,
   "metadata": {},
   "outputs": [
    {
     "data": {
      "image/png": "[encoded data removed]",
      "text/plain": [
       "<Figure size 432x288 with 1 Axes>"
      ]
     },
     "metadata": {
      "needs_background": "light"
     },
     "output_type": "display_data"
    }
   ],
   "source": [
    "wind = weather_data[\"Wind Speed\"]\n",
    "\n",
    "# Create Graph\n",
    "plt.scatter(Latitude, wind, edgecolors= \"black\")\n",
    "plt.grid()\n",
    "plt.xlabel(\"Latitude\")\n",
    "plt.ylabel(\"Wind Speed (mph)\")\n",
    "plt.title(\"Lat vs. Wind Speed\")\n",
    "\n",
    "plt.savefig('../output_data/figure4.png')\n",
    "plt.show()"
   ]
  },
  {
   "cell_type": "code",
   "execution_count": 16,
   "metadata": {},
   "outputs": [],
   "source": [
    "#The code is analyzing the differences between wind speed in regards to latitiude. "
   ]
  },
  {
   "cell_type": "markdown",
   "metadata": {},
   "source": [
    "## Linear Regression"
   ]
  },
  {
   "cell_type": "markdown",
   "metadata": {},
   "source": [
    "####  Northern Hemisphere - Max Temp vs. Latitude Linear Regression"
   ]
  },
  {
   "cell_type": "code",
   "execution_count": 17,
   "metadata": {},
   "outputs": [
    {
     "name": "stdout",
     "output_type": "stream",
     "text": [
      "The r-value is: -0.8559740476807222\n"
     ]
    },
    {
     "data": {
      "image/png": "[encoded data removed]",
      "text/plain": [
       "<Figure size 432x288 with 1 Axes>"
      ]
     },
     "metadata": {
      "needs_background": "light"
     },
     "output_type": "display_data"
    }
   ],
   "source": [
    "northern_hem = weather_data[weather_data[\"Lat\"] >= 0]\n",
    "\n",
    "northern_temp = northern_hem[\"Max Temp\"]\n",
    "northern_lat = northern_hem[\"Lat\"]\n",
    "\n",
    "plt.scatter(northern_lat,northern_temp)\n",
    "plt.xlabel(\"Latitude\")\n",
    "plt.ylabel(\"Max Temperature (F)\")\n",
    "\n",
    "\n",
    "(slope, intercept, rvalue, pvalue, stderr) = linregress(northern_lat, northern_temp)\n",
    "regress_values = northern_lat * slope + intercept\n",
    "plt.plot(northern_lat, regress_values, color = \"red\")\n",
    "\n",
    "line_eq = \"y = \" + str(round(slope,2)) + \"x + \" + str(round(intercept,2))\n",
    "plt.annotate(line_eq, (10,270), fontsize = 14, color = \"black\")\n",
    "print(f\"The r-value is: {rvalue}\")\n",
    "\n",
    "plt.show()"
   ]
  },
  {
   "cell_type": "code",
   "execution_count": null,
   "metadata": {},
   "outputs": [],
   "source": []
  },
  {
   "cell_type": "markdown",
   "metadata": {},
   "source": [
    "####  Southern Hemisphere - Max Temp vs. Latitude Linear Regression"
   ]
  },
  {
   "cell_type": "code",
   "execution_count": 18,
   "metadata": {},
   "outputs": [
    {
     "name": "stdout",
     "output_type": "stream",
     "text": [
      "The r-value is: 0.672374882317118\n"
     ]
    },
    {
     "data": {
      "image/png": "[encoded data removed]",
      "text/plain": [
       "<Figure size 432x288 with 1 Axes>"
      ]
     },
     "metadata": {
      "needs_background": "light"
     },
     "output_type": "display_data"
    }
   ],
   "source": [
    "southern_hem = weather_data[weather_data[\"Lat\"] < 0]\n",
    "\n",
    "southern_temp = southern_hem[\"Max Temp\"]\n",
    "southern_lat = southern_hem[\"Lat\"]\n",
    "\n",
    "plt.scatter(southern_lat, southern_temp)\n",
    "plt.xlabel(\"Latitude\")\n",
    "plt.ylabel(\"Max Temperature (F)\")\n",
    "\n",
    "\n",
    "(slope, intercept, rvalue, pvalue, stderr) = linregress(southern_lat, southern_temp)\n",
    "regress_values = southern_lat * slope + intercept\n",
    "plt.plot(southern_lat, regress_values, color = \"red\")\n",
    "\n",
    "line_eq = \"y = \" + str(round(slope,2)) + \"x + \" + str(round(intercept,2))\n",
    "plt.annotate(line_eq, (-55,305), fontsize = 14, color = \"black\")\n",
    "print(f\"The r-value is: {rvalue}\")\n",
    "\n",
    "plt.show()"
   ]
  },
  {
   "cell_type": "code",
   "execution_count": 19,
   "metadata": {},
   "outputs": [],
   "source": [
    "#The linear regression is showing a negative correlation between max temp and latitude in the northern hem but a positive correlation in the southern hem. "
   ]
  },
  {
   "cell_type": "markdown",
   "metadata": {},
   "source": [
    "####  Northern Hemisphere - Humidity (%) vs. Latitude Linear Regression"
   ]
  },
  {
   "cell_type": "code",
   "execution_count": 20,
   "metadata": {},
   "outputs": [
    {
     "name": "stdout",
     "output_type": "stream",
     "text": [
      "The r-value is: 0.11190984745928621\n"
     ]
    },
    {
     "data": {
      "image/png": "[encoded data removed]",
      "text/plain": [
       "<Figure size 432x288 with 1 Axes>"
      ]
     },
     "metadata": {
      "needs_background": "light"
     },
     "output_type": "display_data"
    }
   ],
   "source": [
    "\n",
    "\n",
    "northern_humid = northern_hem[\"Humidity\"]\n",
    "\n",
    "\n",
    "plt.scatter(northern_lat, northern_humid)\n",
    "plt.xlabel(\"Latitude\")\n",
    "plt.ylabel(\"Humidity %\")\n",
    "\n",
    "\n",
    "(slope, intercept, rvalue, pvalue, stderr) = linregress(northern_lat, northern_humid)\n",
    "regress_values = northern_lat * slope + intercept\n",
    "plt.plot(northern_lat, regress_values, color = \"red\")\n",
    "\n",
    "line_eq = \"y = \" + str(round(slope,2)) + \"x + \" + str(round(intercept,2))\n",
    "plt.annotate(line_eq, (50,10), fontsize = 14, color = \"black\")\n",
    "print(f\"The r-value is: {rvalue}\")\n",
    "\n",
    "plt.show()"
   ]
  },
  {
   "cell_type": "code",
   "execution_count": null,
   "metadata": {},
   "outputs": [],
   "source": []
  },
  {
   "cell_type": "markdown",
   "metadata": {},
   "source": [
    "####  Southern Hemisphere - Humidity (%) vs. Latitude Linear Regression"
   ]
  },
  {
   "cell_type": "code",
   "execution_count": 21,
   "metadata": {},
   "outputs": [
    {
     "name": "stdout",
     "output_type": "stream",
     "text": [
      "The r-value is: 0.14158801440703603\n"
     ]
    },
    {
     "data": {
      "image/png": "[encoded data removed]",
      "text/plain": [
       "<Figure size 432x288 with 1 Axes>"
      ]
     },
     "metadata": {
      "needs_background": "light"
     },
     "output_type": "display_data"
    }
   ],
   "source": [
    "\n",
    "\n",
    "southern_humid = southern_hem[\"Humidity\"]\n",
    "\n",
    "\n",
    "plt.scatter(southern_lat, southern_humid)\n",
    "plt.xlabel(\"Latitude\")\n",
    "plt.ylabel(\"Humidity\")\n",
    "\n",
    "\n",
    "(slope, intercept, rvalue, pvalue, stderr) = linregress(southern_lat, southern_humid)\n",
    "regress_values = southern_lat * slope + intercept\n",
    "plt.plot(southern_lat, regress_values, color = \"red\")\n",
    "\n",
    "line_eq = \"y = \" + str(round(slope,2)) + \"x + \" + str(round(intercept,2))\n",
    "plt.annotate(line_eq, (-55,30), fontsize = 14, color = \"black\")\n",
    "print(f\"The r-value is: {rvalue}\")\n",
    "\n",
    "plt.show()"
   ]
  },
  {
   "cell_type": "code",
   "execution_count": 22,
   "metadata": {},
   "outputs": [],
   "source": [
    "#The linear regression model seems to show no strong correlation between humidity and latitude in both \n",
    "#the northern and southern hemisphere. "
   ]
  },
  {
   "cell_type": "markdown",
   "metadata": {},
   "source": [
    "####  Northern Hemisphere - Cloudiness (%) vs. Latitude Linear Regression"
   ]
  },
  {
   "cell_type": "code",
   "execution_count": 23,
   "metadata": {},
   "outputs": [
    {
     "name": "stdout",
     "output_type": "stream",
     "text": [
      "The r-value is: 0.13297986334788262\n"
     ]
    },
    {
     "data": {
      "image/png": "[encoded data removed]",
      "text/plain": [
       "<Figure size 432x288 with 1 Axes>"
      ]
     },
     "metadata": {
      "needs_background": "light"
     },
     "output_type": "display_data"
    }
   ],
   "source": [
    "northern_cloudiness = northern_hem[\"Cloudiness\"]\n",
    "\n",
    "\n",
    "plt.scatter(northern_lat, northern_cloudiness)\n",
    "plt.xlabel(\"Latitude\")\n",
    "plt.ylabel(\"Cloudiness\")\n",
    "\n",
    "\n",
    "(slope, intercept, rvalue, pvalue, stderr) = linregress(northern_lat, northern_cloudiness)\n",
    "regress_values = northern_lat * slope + intercept\n",
    "plt.plot(northern_lat, regress_values, color = \"red\")\n",
    "\n",
    "line_eq = \"y = \" + str(round(slope,2)) + \"x + \" + str(round(intercept,2))\n",
    "plt.annotate(line_eq, (50,5), fontsize = 14, color = \"black\")\n",
    "print(f\"The r-value is: {rvalue}\")\n",
    "\n",
    "plt.show()"
   ]
  },
  {
   "cell_type": "code",
   "execution_count": null,
   "metadata": {},
   "outputs": [],
   "source": []
  },
  {
   "cell_type": "markdown",
   "metadata": {},
   "source": [
    "####  Southern Hemisphere - Cloudiness (%) vs. Latitude Linear Regression"
   ]
  },
  {
   "cell_type": "code",
   "execution_count": 24,
   "metadata": {},
   "outputs": [
    {
     "name": "stdout",
     "output_type": "stream",
     "text": [
      "The r-value is: 0.13644340105231395\n"
     ]
    },
    {
     "data": {
      "image/png": "[encoded data removed]",
      "text/plain": [
       "<Figure size 432x288 with 1 Axes>"
      ]
     },
     "metadata": {
      "needs_background": "light"
     },
     "output_type": "display_data"
    }
   ],
   "source": [
    "southern_cloudiness = southern_hem[\"Cloudiness\"]\n",
    "\n",
    "plt.scatter(southern_lat, southern_cloudiness)\n",
    "plt.xlabel(\"Latitude\")\n",
    "plt.ylabel(\"Humidity\")\n",
    "\n",
    "\n",
    "(slope, intercept, rvalue, pvalue, stderr) = linregress(southern_lat, southern_cloudiness)\n",
    "regress_values = southern_lat * slope + intercept\n",
    "plt.plot(southern_lat, regress_values, color = \"red\")\n",
    "\n",
    "line_eq = \"y = \" + str(round(slope,2)) + \"x + \" + str(round(intercept,2))\n",
    "plt.annotate(line_eq, (-55,25), fontsize = 14, color = \"black\")\n",
    "print(f\"The r-value is: {rvalue}\")\n",
    "\n",
    "plt.show()"
   ]
  },
  {
   "cell_type": "code",
   "execution_count": 25,
   "metadata": {},
   "outputs": [],
   "source": [
    "#The linear regression model seems to show no strong correlation between cloudiness and latitude in both \n",
    "#the northern and southern hemisphere. "
   ]
  },
  {
   "cell_type": "markdown",
   "metadata": {},
   "source": [
    "####  Northern Hemisphere - Wind Speed (mph) vs. Latitude Linear Regression"
   ]
  },
  {
   "cell_type": "code",
   "execution_count": 26,
   "metadata": {},
   "outputs": [
    {
     "name": "stdout",
     "output_type": "stream",
     "text": [
      "The r-value is: 0.18645626816209734\n"
     ]
    },
    {
     "data": {
      "image/png": "[encoded data removed]",
      "text/plain": [
       "<Figure size 432x288 with 1 Axes>"
      ]
     },
     "metadata": {
      "needs_background": "light"
     },
     "output_type": "display_data"
    }
   ],
   "source": [
    "northern_windspeed = northern_hem[\"Wind Speed\"]\n",
    "\n",
    "\n",
    "plt.scatter(northern_lat, northern_windspeed)\n",
    "plt.xlabel(\"Latitude\")\n",
    "plt.ylabel(\"Cloudiness\")\n",
    "\n",
    "\n",
    "(slope, intercept, rvalue, pvalue, stderr) = linregress(northern_lat, northern_windspeed)\n",
    "regress_values = northern_lat * slope + intercept\n",
    "plt.plot(northern_lat, regress_values, color = \"red\")\n",
    "\n",
    "line_eq = \"y = \" + str(round(slope,2)) + \"x + \" + str(round(intercept,2))\n",
    "plt.annotate(line_eq, (0,11), fontsize = 14, color = \"black\")\n",
    "print(f\"The r-value is: {rvalue}\")\n",
    "\n",
    "plt.show()"
   ]
  },
  {
   "cell_type": "code",
   "execution_count": null,
   "metadata": {},
   "outputs": [],
   "source": []
  },
  {
   "cell_type": "markdown",
   "metadata": {},
   "source": [
    "####  Southern Hemisphere - Wind Speed (mph) vs. Latitude Linear Regression"
   ]
  },
  {
   "cell_type": "code",
   "execution_count": 27,
   "metadata": {},
   "outputs": [
    {
     "name": "stdout",
     "output_type": "stream",
     "text": [
      "The r-value is: -0.2242786467585764\n"
     ]
    },
    {
     "data": {
      "image/png": "[encoded data removed]",
      "text/plain": [
       "<Figure size 432x288 with 1 Axes>"
      ]
     },
     "metadata": {
      "needs_background": "light"
     },
     "output_type": "display_data"
    }
   ],
   "source": [
    "southern_windspeed = southern_hem[\"Wind Speed\"]\n",
    "\n",
    "plt.scatter(southern_lat, southern_windspeed)\n",
    "plt.xlabel(\"Latitude\")\n",
    "plt.ylabel(\"Humidity\")\n",
    "\n",
    "\n",
    "(slope, intercept, rvalue, pvalue, stderr) = linregress(southern_lat, southern_windspeed)\n",
    "regress_values = southern_lat * slope + intercept\n",
    "plt.plot(southern_lat, regress_values, color = \"red\")\n",
    "\n",
    "line_eq = \"y = \" + str(round(slope,2)) + \"x + \" + str(round(intercept,2))\n",
    "plt.annotate(line_eq, (-50,11), fontsize = 14, color = \"black\")\n",
    "print(f\"The r-value is: {rvalue}\")\n",
    "\n",
    "plt.show()"
   ]
  },
  {
   "cell_type": "code",
   "execution_count": 28,
   "metadata": {},
   "outputs": [],
   "source": [
    "#The linear regression model seems to show no strong correlation between cloudiness and latitude in both \n",
    "#the northern and southern hemisphere. "
   ]
  },
  {
   "cell_type": "code",
   "execution_count": 29,
   "metadata": {},
   "outputs": [],
   "source": [
    "#Analysis\n",
    "#Temperature is the only thing that can be predicted based off latitude since they have a strong correlation. \n",
    "#Cloudiness vs latitude tends to produce the most spread out data point, therefore there is very little correlation. \n",
    "#Humididty is most likely to be above 50 percent across all latitudes. \n"
   ]
  }
 ],
 "metadata": {
  "anaconda-cloud": {},
  "kernel_info": {
   "name": "python3"
  },
  "kernelspec": {
   "display_name": "Python 3.8.13 ('PythonData38')",
   "language": "python",
   "name": "python3"
  },
  "language_info": {
   "codemirror_mode": {
    "name": "ipython",
    "version": 3
   },
   "file_extension": ".py",
   "mimetype": "text/x-python",
   "name": "python",
   "nbconvert_exporter": "python",
   "pygments_lexer": "ipython3",
   "version": "3.8.13"
  },
  "latex_envs": {
   "LaTeX_envs_menu_present": true,
   "autoclose": false,
   "autocomplete": true,
   "bibliofile": "biblio.bib",
   "cite_by": "apalike",
   "current_citInitial": 1,
   "eqLabelWithNumbers": true,
   "eqNumInitial": 1,
   "hotkeys": {
    "equation": "Ctrl-E",
    "itemize": "Ctrl-I"
   },
   "labels_anchors": false,
   "latex_user_defs": false,
   "report_style_numbering": false,
   "user_envs_cfg": false
  },
  "nteract": {
   "version": "0.12.3"
  },
  "vscode": {
   "interpreter": {
    "hash": "cd2cc5cadcc43d61a01d71f43183b1fc656eb62e4d5140bb24b996d7fc30a05a"
   }
  }
 },
 "nbformat": 4,
 "nbformat_minor": 4
}
